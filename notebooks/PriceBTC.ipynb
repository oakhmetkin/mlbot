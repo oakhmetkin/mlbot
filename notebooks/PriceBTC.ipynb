{
  "cells": [
    {
      "cell_type": "markdown",
      "id": "03424bc3",
      "metadata": {
        "id": "03424bc3"
      },
      "source": [
        "# BTC price prediction"
      ]
    },
    {
      "cell_type": "code",
      "source": [
        "from google.colab import drive\n",
        "drive.mount('/content/drive')"
      ],
      "metadata": {
        "colab": {
          "base_uri": "https://localhost:8080/"
        },
        "id": "RLX7x1u8u-aU",
        "outputId": "b020f57b-4af0-4890-a8a3-3217048ad42b"
      },
      "id": "RLX7x1u8u-aU",
      "execution_count": 1,
      "outputs": [
        {
          "output_type": "stream",
          "name": "stdout",
          "text": [
            "Mounted at /content/drive\n"
          ]
        }
      ]
    },
    {
      "cell_type": "code",
      "source": [
        "FILES_PATH = '/content/drive/MyDrive/colab_files/'"
      ],
      "metadata": {
        "id": "r08qH5Z_vbGP"
      },
      "id": "r08qH5Z_vbGP",
      "execution_count": 2,
      "outputs": []
    },
    {
      "cell_type": "code",
      "execution_count": 3,
      "id": "28aeabc0",
      "metadata": {
        "colab": {
          "base_uri": "https://localhost:8080/"
        },
        "id": "28aeabc0",
        "outputId": "be6ee8ee-6e80-43ed-d7c5-755d70cd4521"
      },
      "outputs": [
        {
          "output_type": "stream",
          "name": "stdout",
          "text": [
            "augmented_big.zip  augmentedv3.zip  btc_35040.csv  data.yaml  oldruns.zip\n",
            "augmentedv2.zip    augmented.zip    dataset\t   data.zip   runs.zip\n"
          ]
        }
      ],
      "source": [
        "! cd $FILES_PATH; ls"
      ]
    },
    {
      "cell_type": "markdown",
      "id": "869fc6ca",
      "metadata": {
        "id": "869fc6ca"
      },
      "source": [
        "## EDA"
      ]
    },
    {
      "cell_type": "code",
      "execution_count": 4,
      "id": "4bd22d44",
      "metadata": {
        "id": "4bd22d44"
      },
      "outputs": [],
      "source": [
        "import numpy as np\n",
        "import pandas as pd\n",
        "\n",
        "from datetime import datetime\n",
        "\n",
        "import matplotlib.pyplot as plt\n",
        "%matplotlib inline"
      ]
    },
    {
      "cell_type": "code",
      "execution_count": 5,
      "id": "9b49713c",
      "metadata": {
        "colab": {
          "base_uri": "https://localhost:8080/",
          "height": 423
        },
        "id": "9b49713c",
        "outputId": "9b4fcab4-fc15-4dfe-9275-a9fc33731486"
      },
      "outputs": [
        {
          "output_type": "execute_result",
          "data": {
            "text/plain": [
              "             time     open    close     high      low      volume  \\\n",
              "0      1694692800  26446.2  26439.2  26472.6  26428.5    8.281884   \n",
              "1      1694691900  26369.9  26446.1  26489.0  26368.3   86.392787   \n",
              "2      1694691000  26374.3  26369.9  26400.0  26360.5   30.212272   \n",
              "3      1694690100  26351.1  26374.4  26375.0  26342.4   25.699080   \n",
              "4      1694689200  26332.5  26351.0  26351.1  26329.0   16.011302   \n",
              "...           ...      ...      ...      ...      ...         ...   \n",
              "35035  1663161300  20376.6  20335.3  20381.2  20321.4   58.887554   \n",
              "35036  1663160400  20311.2  20376.6  20385.9  20270.9  112.401328   \n",
              "35037  1663159500  20313.7  20312.6  20332.0  20244.0   88.319159   \n",
              "35038  1663158600  20212.3  20313.7  20343.0  20130.2  193.487012   \n",
              "35039  1663157700  20143.8  20214.9  20240.6  20100.7  112.280750   \n",
              "\n",
              "           turnover  \n",
              "0      2.190531e+05  \n",
              "1      2.283123e+06  \n",
              "2      7.969732e+05  \n",
              "3      6.773575e+05  \n",
              "4      4.217789e+05  \n",
              "...             ...  \n",
              "35035  1.198164e+06  \n",
              "35036  2.286843e+06  \n",
              "35037  1.792011e+06  \n",
              "35038  3.920462e+06  \n",
              "35039  2.265127e+06  \n",
              "\n",
              "[35040 rows x 7 columns]"
            ],
            "text/html": [
              "\n",
              "  <div id=\"df-10dfe36a-c898-46ba-9867-ddd0665755e2\" class=\"colab-df-container\">\n",
              "    <div>\n",
              "<style scoped>\n",
              "    .dataframe tbody tr th:only-of-type {\n",
              "        vertical-align: middle;\n",
              "    }\n",
              "\n",
              "    .dataframe tbody tr th {\n",
              "        vertical-align: top;\n",
              "    }\n",
              "\n",
              "    .dataframe thead th {\n",
              "        text-align: right;\n",
              "    }\n",
              "</style>\n",
              "<table border=\"1\" class=\"dataframe\">\n",
              "  <thead>\n",
              "    <tr style=\"text-align: right;\">\n",
              "      <th></th>\n",
              "      <th>time</th>\n",
              "      <th>open</th>\n",
              "      <th>close</th>\n",
              "      <th>high</th>\n",
              "      <th>low</th>\n",
              "      <th>volume</th>\n",
              "      <th>turnover</th>\n",
              "    </tr>\n",
              "  </thead>\n",
              "  <tbody>\n",
              "    <tr>\n",
              "      <th>0</th>\n",
              "      <td>1694692800</td>\n",
              "      <td>26446.2</td>\n",
              "      <td>26439.2</td>\n",
              "      <td>26472.6</td>\n",
              "      <td>26428.5</td>\n",
              "      <td>8.281884</td>\n",
              "      <td>2.190531e+05</td>\n",
              "    </tr>\n",
              "    <tr>\n",
              "      <th>1</th>\n",
              "      <td>1694691900</td>\n",
              "      <td>26369.9</td>\n",
              "      <td>26446.1</td>\n",
              "      <td>26489.0</td>\n",
              "      <td>26368.3</td>\n",
              "      <td>86.392787</td>\n",
              "      <td>2.283123e+06</td>\n",
              "    </tr>\n",
              "    <tr>\n",
              "      <th>2</th>\n",
              "      <td>1694691000</td>\n",
              "      <td>26374.3</td>\n",
              "      <td>26369.9</td>\n",
              "      <td>26400.0</td>\n",
              "      <td>26360.5</td>\n",
              "      <td>30.212272</td>\n",
              "      <td>7.969732e+05</td>\n",
              "    </tr>\n",
              "    <tr>\n",
              "      <th>3</th>\n",
              "      <td>1694690100</td>\n",
              "      <td>26351.1</td>\n",
              "      <td>26374.4</td>\n",
              "      <td>26375.0</td>\n",
              "      <td>26342.4</td>\n",
              "      <td>25.699080</td>\n",
              "      <td>6.773575e+05</td>\n",
              "    </tr>\n",
              "    <tr>\n",
              "      <th>4</th>\n",
              "      <td>1694689200</td>\n",
              "      <td>26332.5</td>\n",
              "      <td>26351.0</td>\n",
              "      <td>26351.1</td>\n",
              "      <td>26329.0</td>\n",
              "      <td>16.011302</td>\n",
              "      <td>4.217789e+05</td>\n",
              "    </tr>\n",
              "    <tr>\n",
              "      <th>...</th>\n",
              "      <td>...</td>\n",
              "      <td>...</td>\n",
              "      <td>...</td>\n",
              "      <td>...</td>\n",
              "      <td>...</td>\n",
              "      <td>...</td>\n",
              "      <td>...</td>\n",
              "    </tr>\n",
              "    <tr>\n",
              "      <th>35035</th>\n",
              "      <td>1663161300</td>\n",
              "      <td>20376.6</td>\n",
              "      <td>20335.3</td>\n",
              "      <td>20381.2</td>\n",
              "      <td>20321.4</td>\n",
              "      <td>58.887554</td>\n",
              "      <td>1.198164e+06</td>\n",
              "    </tr>\n",
              "    <tr>\n",
              "      <th>35036</th>\n",
              "      <td>1663160400</td>\n",
              "      <td>20311.2</td>\n",
              "      <td>20376.6</td>\n",
              "      <td>20385.9</td>\n",
              "      <td>20270.9</td>\n",
              "      <td>112.401328</td>\n",
              "      <td>2.286843e+06</td>\n",
              "    </tr>\n",
              "    <tr>\n",
              "      <th>35037</th>\n",
              "      <td>1663159500</td>\n",
              "      <td>20313.7</td>\n",
              "      <td>20312.6</td>\n",
              "      <td>20332.0</td>\n",
              "      <td>20244.0</td>\n",
              "      <td>88.319159</td>\n",
              "      <td>1.792011e+06</td>\n",
              "    </tr>\n",
              "    <tr>\n",
              "      <th>35038</th>\n",
              "      <td>1663158600</td>\n",
              "      <td>20212.3</td>\n",
              "      <td>20313.7</td>\n",
              "      <td>20343.0</td>\n",
              "      <td>20130.2</td>\n",
              "      <td>193.487012</td>\n",
              "      <td>3.920462e+06</td>\n",
              "    </tr>\n",
              "    <tr>\n",
              "      <th>35039</th>\n",
              "      <td>1663157700</td>\n",
              "      <td>20143.8</td>\n",
              "      <td>20214.9</td>\n",
              "      <td>20240.6</td>\n",
              "      <td>20100.7</td>\n",
              "      <td>112.280750</td>\n",
              "      <td>2.265127e+06</td>\n",
              "    </tr>\n",
              "  </tbody>\n",
              "</table>\n",
              "<p>35040 rows × 7 columns</p>\n",
              "</div>\n",
              "    <div class=\"colab-df-buttons\">\n",
              "\n",
              "  <div class=\"colab-df-container\">\n",
              "    <button class=\"colab-df-convert\" onclick=\"convertToInteractive('df-10dfe36a-c898-46ba-9867-ddd0665755e2')\"\n",
              "            title=\"Convert this dataframe to an interactive table.\"\n",
              "            style=\"display:none;\">\n",
              "\n",
              "  <svg xmlns=\"http://www.w3.org/2000/svg\" height=\"24px\" viewBox=\"0 -960 960 960\">\n",
              "    <path d=\"M120-120v-720h720v720H120Zm60-500h600v-160H180v160Zm220 220h160v-160H400v160Zm0 220h160v-160H400v160ZM180-400h160v-160H180v160Zm440 0h160v-160H620v160ZM180-180h160v-160H180v160Zm440 0h160v-160H620v160Z\"/>\n",
              "  </svg>\n",
              "    </button>\n",
              "\n",
              "  <style>\n",
              "    .colab-df-container {\n",
              "      display:flex;\n",
              "      gap: 12px;\n",
              "    }\n",
              "\n",
              "    .colab-df-convert {\n",
              "      background-color: #E8F0FE;\n",
              "      border: none;\n",
              "      border-radius: 50%;\n",
              "      cursor: pointer;\n",
              "      display: none;\n",
              "      fill: #1967D2;\n",
              "      height: 32px;\n",
              "      padding: 0 0 0 0;\n",
              "      width: 32px;\n",
              "    }\n",
              "\n",
              "    .colab-df-convert:hover {\n",
              "      background-color: #E2EBFA;\n",
              "      box-shadow: 0px 1px 2px rgba(60, 64, 67, 0.3), 0px 1px 3px 1px rgba(60, 64, 67, 0.15);\n",
              "      fill: #174EA6;\n",
              "    }\n",
              "\n",
              "    .colab-df-buttons div {\n",
              "      margin-bottom: 4px;\n",
              "    }\n",
              "\n",
              "    [theme=dark] .colab-df-convert {\n",
              "      background-color: #3B4455;\n",
              "      fill: #D2E3FC;\n",
              "    }\n",
              "\n",
              "    [theme=dark] .colab-df-convert:hover {\n",
              "      background-color: #434B5C;\n",
              "      box-shadow: 0px 1px 3px 1px rgba(0, 0, 0, 0.15);\n",
              "      filter: drop-shadow(0px 1px 2px rgba(0, 0, 0, 0.3));\n",
              "      fill: #FFFFFF;\n",
              "    }\n",
              "  </style>\n",
              "\n",
              "    <script>\n",
              "      const buttonEl =\n",
              "        document.querySelector('#df-10dfe36a-c898-46ba-9867-ddd0665755e2 button.colab-df-convert');\n",
              "      buttonEl.style.display =\n",
              "        google.colab.kernel.accessAllowed ? 'block' : 'none';\n",
              "\n",
              "      async function convertToInteractive(key) {\n",
              "        const element = document.querySelector('#df-10dfe36a-c898-46ba-9867-ddd0665755e2');\n",
              "        const dataTable =\n",
              "          await google.colab.kernel.invokeFunction('convertToInteractive',\n",
              "                                                    [key], {});\n",
              "        if (!dataTable) return;\n",
              "\n",
              "        const docLinkHtml = 'Like what you see? Visit the ' +\n",
              "          '<a target=\"_blank\" href=https://colab.research.google.com/notebooks/data_table.ipynb>data table notebook</a>'\n",
              "          + ' to learn more about interactive tables.';\n",
              "        element.innerHTML = '';\n",
              "        dataTable['output_type'] = 'display_data';\n",
              "        await google.colab.output.renderOutput(dataTable, element);\n",
              "        const docLink = document.createElement('div');\n",
              "        docLink.innerHTML = docLinkHtml;\n",
              "        element.appendChild(docLink);\n",
              "      }\n",
              "    </script>\n",
              "  </div>\n",
              "\n",
              "\n",
              "<div id=\"df-9ced34eb-199b-4029-8ced-edadf81b0b55\">\n",
              "  <button class=\"colab-df-quickchart\" onclick=\"quickchart('df-9ced34eb-199b-4029-8ced-edadf81b0b55')\"\n",
              "            title=\"Suggest charts.\"\n",
              "            style=\"display:none;\">\n",
              "\n",
              "<svg xmlns=\"http://www.w3.org/2000/svg\" height=\"24px\"viewBox=\"0 0 24 24\"\n",
              "     width=\"24px\">\n",
              "    <g>\n",
              "        <path d=\"M19 3H5c-1.1 0-2 .9-2 2v14c0 1.1.9 2 2 2h14c1.1 0 2-.9 2-2V5c0-1.1-.9-2-2-2zM9 17H7v-7h2v7zm4 0h-2V7h2v10zm4 0h-2v-4h2v4z\"/>\n",
              "    </g>\n",
              "</svg>\n",
              "  </button>\n",
              "\n",
              "<style>\n",
              "  .colab-df-quickchart {\n",
              "      --bg-color: #E8F0FE;\n",
              "      --fill-color: #1967D2;\n",
              "      --hover-bg-color: #E2EBFA;\n",
              "      --hover-fill-color: #174EA6;\n",
              "      --disabled-fill-color: #AAA;\n",
              "      --disabled-bg-color: #DDD;\n",
              "  }\n",
              "\n",
              "  [theme=dark] .colab-df-quickchart {\n",
              "      --bg-color: #3B4455;\n",
              "      --fill-color: #D2E3FC;\n",
              "      --hover-bg-color: #434B5C;\n",
              "      --hover-fill-color: #FFFFFF;\n",
              "      --disabled-bg-color: #3B4455;\n",
              "      --disabled-fill-color: #666;\n",
              "  }\n",
              "\n",
              "  .colab-df-quickchart {\n",
              "    background-color: var(--bg-color);\n",
              "    border: none;\n",
              "    border-radius: 50%;\n",
              "    cursor: pointer;\n",
              "    display: none;\n",
              "    fill: var(--fill-color);\n",
              "    height: 32px;\n",
              "    padding: 0;\n",
              "    width: 32px;\n",
              "  }\n",
              "\n",
              "  .colab-df-quickchart:hover {\n",
              "    background-color: var(--hover-bg-color);\n",
              "    box-shadow: 0 1px 2px rgba(60, 64, 67, 0.3), 0 1px 3px 1px rgba(60, 64, 67, 0.15);\n",
              "    fill: var(--button-hover-fill-color);\n",
              "  }\n",
              "\n",
              "  .colab-df-quickchart-complete:disabled,\n",
              "  .colab-df-quickchart-complete:disabled:hover {\n",
              "    background-color: var(--disabled-bg-color);\n",
              "    fill: var(--disabled-fill-color);\n",
              "    box-shadow: none;\n",
              "  }\n",
              "\n",
              "  .colab-df-spinner {\n",
              "    border: 2px solid var(--fill-color);\n",
              "    border-color: transparent;\n",
              "    border-bottom-color: var(--fill-color);\n",
              "    animation:\n",
              "      spin 1s steps(1) infinite;\n",
              "  }\n",
              "\n",
              "  @keyframes spin {\n",
              "    0% {\n",
              "      border-color: transparent;\n",
              "      border-bottom-color: var(--fill-color);\n",
              "      border-left-color: var(--fill-color);\n",
              "    }\n",
              "    20% {\n",
              "      border-color: transparent;\n",
              "      border-left-color: var(--fill-color);\n",
              "      border-top-color: var(--fill-color);\n",
              "    }\n",
              "    30% {\n",
              "      border-color: transparent;\n",
              "      border-left-color: var(--fill-color);\n",
              "      border-top-color: var(--fill-color);\n",
              "      border-right-color: var(--fill-color);\n",
              "    }\n",
              "    40% {\n",
              "      border-color: transparent;\n",
              "      border-right-color: var(--fill-color);\n",
              "      border-top-color: var(--fill-color);\n",
              "    }\n",
              "    60% {\n",
              "      border-color: transparent;\n",
              "      border-right-color: var(--fill-color);\n",
              "    }\n",
              "    80% {\n",
              "      border-color: transparent;\n",
              "      border-right-color: var(--fill-color);\n",
              "      border-bottom-color: var(--fill-color);\n",
              "    }\n",
              "    90% {\n",
              "      border-color: transparent;\n",
              "      border-bottom-color: var(--fill-color);\n",
              "    }\n",
              "  }\n",
              "</style>\n",
              "\n",
              "  <script>\n",
              "    async function quickchart(key) {\n",
              "      const quickchartButtonEl =\n",
              "        document.querySelector('#' + key + ' button');\n",
              "      quickchartButtonEl.disabled = true;  // To prevent multiple clicks.\n",
              "      quickchartButtonEl.classList.add('colab-df-spinner');\n",
              "      try {\n",
              "        const charts = await google.colab.kernel.invokeFunction(\n",
              "            'suggestCharts', [key], {});\n",
              "      } catch (error) {\n",
              "        console.error('Error during call to suggestCharts:', error);\n",
              "      }\n",
              "      quickchartButtonEl.classList.remove('colab-df-spinner');\n",
              "      quickchartButtonEl.classList.add('colab-df-quickchart-complete');\n",
              "    }\n",
              "    (() => {\n",
              "      let quickchartButtonEl =\n",
              "        document.querySelector('#df-9ced34eb-199b-4029-8ced-edadf81b0b55 button');\n",
              "      quickchartButtonEl.style.display =\n",
              "        google.colab.kernel.accessAllowed ? 'block' : 'none';\n",
              "    })();\n",
              "  </script>\n",
              "</div>\n",
              "    </div>\n",
              "  </div>\n"
            ]
          },
          "metadata": {},
          "execution_count": 5
        }
      ],
      "source": [
        "df = pd.read_csv(FILES_PATH + 'btc_35040.csv', index_col=0)\n",
        "df"
      ]
    },
    {
      "cell_type": "code",
      "execution_count": 6,
      "id": "7308aed2",
      "metadata": {
        "colab": {
          "base_uri": "https://localhost:8080/"
        },
        "id": "7308aed2",
        "outputId": "4426aad6-36dc-4e1a-cae7-5d64fedde224"
      },
      "outputs": [
        {
          "output_type": "execute_result",
          "data": {
            "text/plain": [
              "Index(['time', 'open', 'close', 'high', 'low', 'volume', 'turnover'], dtype='object')"
            ]
          },
          "metadata": {},
          "execution_count": 6
        }
      ],
      "source": [
        "df.columns"
      ]
    },
    {
      "cell_type": "code",
      "execution_count": 7,
      "id": "3ccccc05",
      "metadata": {
        "id": "3ccccc05"
      },
      "outputs": [],
      "source": [
        "plt.rcParams['figure.figsize'] = (20, 5)\n",
        "\n",
        "decrease_color = 'red'\n",
        "increase_color = 'green'\n",
        "\n",
        "width = .3\n",
        "width2 = .03"
      ]
    },
    {
      "cell_type": "code",
      "source": [
        "def candles_plot(dataframe, count=40, start_idx=None):\n",
        "    if not start_idx:\n",
        "        start_idx = len(dataframe) - count\n",
        "\n",
        "    st = start_idx\n",
        "    end = min(len(dataframe), start_idx + count)\n",
        "    stock_prices = dataframe[st:end]\n",
        "\n",
        "    up = stock_prices[stock_prices.close >= stock_prices.open]\n",
        "    down = stock_prices[stock_prices.close < stock_prices.open]\n",
        "\n",
        "    plt.bar(up.index, up.close-up.open, width, bottom=up.open, color=decrease_color)\n",
        "    plt.bar(up.index, up.high-up.low, width2, bottom=up.low, color=decrease_color)\n",
        "\n",
        "    plt.bar(down.index, down.close-down.open, width, bottom=down.open, color=increase_color)\n",
        "    plt.bar(down.index, down.high-down.low, width2, bottom=down.low, color=increase_color)\n",
        "\n",
        "    plt.title(f'Last {count} candles of BTC price at Kucoin')"
      ],
      "metadata": {
        "id": "DICvmpe-Bkoq"
      },
      "id": "DICvmpe-Bkoq",
      "execution_count": 8,
      "outputs": []
    },
    {
      "cell_type": "code",
      "source": [
        "candles_plot(df, count=40)"
      ],
      "metadata": {
        "colab": {
          "base_uri": "https://localhost:8080/",
          "height": 342
        },
        "id": "7yYtVqRJDKpS",
        "outputId": "61f90491-ca54-4c5b-ccc5-25fde77243af"
      },
      "id": "7yYtVqRJDKpS",
      "execution_count": 9,
      "outputs": [
        {
          "output_type": "display_data",
          "data": {
            "text/plain": [
              "<Figure size 2000x500 with 1 Axes>"
            ],
            "image/png": "[encoded data removed]"
          },
          "metadata": {}
        }
      ]
    },
    {
      "cell_type": "markdown",
      "source": [
        "## Data preprocessing"
      ],
      "metadata": {
        "id": "sl0VAiTC0aoC"
      },
      "id": "sl0VAiTC0aoC"
    },
    {
      "cell_type": "code",
      "source": [
        "from sklearn.model_selection import train_test_split"
      ],
      "metadata": {
        "id": "QcQUtWJs0enK"
      },
      "id": "QcQUtWJs0enK",
      "execution_count": 10,
      "outputs": []
    },
    {
      "cell_type": "code",
      "execution_count": 11,
      "id": "d207b9cb",
      "metadata": {
        "colab": {
          "base_uri": "https://localhost:8080/"
        },
        "id": "d207b9cb",
        "outputId": "658974a6-fe42-49e1-f34d-09613dd2cdc5"
      },
      "outputs": [
        {
          "output_type": "execute_result",
          "data": {
            "text/plain": [
              "(28032, 7008)"
            ]
          },
          "metadata": {},
          "execution_count": 11
        }
      ],
      "source": [
        "cols = ['open', 'close', 'high', 'low', 'volume', 'turnover']\n",
        "\n",
        "unscaled_train_df, val_df = train_test_split(df[cols], test_size=0.2, shuffle=False)\n",
        "\n",
        "len(unscaled_train_df), len(val_df)"
      ]
    },
    {
      "cell_type": "code",
      "source": [
        "candles_plot(unscaled_train_df, count=40)"
      ],
      "metadata": {
        "colab": {
          "base_uri": "https://localhost:8080/",
          "height": 342
        },
        "id": "d0TMu67VBjA2",
        "outputId": "87b827fb-a30a-47d3-9c7d-21e22211aff1"
      },
      "id": "d0TMu67VBjA2",
      "execution_count": 12,
      "outputs": [
        {
          "output_type": "display_data",
          "data": {
            "text/plain": [
              "<Figure size 2000x500 with 1 Axes>"
            ],
            "image/png": "[encoded data removed]"
          },
          "metadata": {}
        }
      ]
    },
    {
      "cell_type": "code",
      "source": [
        "from sklearn.preprocessing import StandardScaler"
      ],
      "metadata": {
        "id": "tZ-wGnS00TqX"
      },
      "id": "tZ-wGnS00TqX",
      "execution_count": 13,
      "outputs": []
    },
    {
      "cell_type": "code",
      "source": [
        "scaler = StandardScaler()\n",
        "train_df = pd.DataFrame(scaler.fit_transform(unscaled_train_df), columns=cols)"
      ],
      "metadata": {
        "id": "5GNQNzB-054j"
      },
      "id": "5GNQNzB-054j",
      "execution_count": 14,
      "outputs": []
    },
    {
      "cell_type": "code",
      "source": [
        "candles_plot(train_df, count=40)"
      ],
      "metadata": {
        "colab": {
          "base_uri": "https://localhost:8080/",
          "height": 342
        },
        "id": "cZdkvS1KM0xV",
        "outputId": "4bcb3da7-e425-4c40-f060-c948d05cf9e3"
      },
      "id": "cZdkvS1KM0xV",
      "execution_count": 15,
      "outputs": [
        {
          "output_type": "display_data",
          "data": {
            "text/plain": [
              "<Figure size 2000x500 with 1 Axes>"
            ],
            "image/png": "[encoded data removed]"
          },
          "metadata": {}
        }
      ]
    },
    {
      "cell_type": "markdown",
      "id": "0d0c9fc9",
      "metadata": {
        "id": "0d0c9fc9"
      },
      "source": [
        "## Datasets & dataloaders"
      ]
    },
    {
      "cell_type": "code",
      "execution_count": 16,
      "id": "738739a0",
      "metadata": {
        "id": "738739a0"
      },
      "outputs": [],
      "source": [
        "import torch\n",
        "from torch.utils.data import Dataset, DataLoader"
      ]
    },
    {
      "cell_type": "code",
      "execution_count": 17,
      "id": "45169a0f",
      "metadata": {
        "id": "45169a0f"
      },
      "outputs": [],
      "source": [
        "def create_dataset(dataset, lookback):\n",
        "    X, y = [], []\n",
        "\n",
        "    for i in range(len(dataset)-lookback):\n",
        "        if isinstance(dataset, pd.DataFrame):\n",
        "            feature = dataset[i:i+lookback].values.astype(np.float32)\n",
        "            target = dataset[i+1:i+lookback+1].values.astype(np.float32)\n",
        "        else:\n",
        "            feature = dataset[i:i+lookback].astype(np.float32)\n",
        "            target = dataset[i+1:i+lookback+1].astype(np.float32)\n",
        "        X.append(feature)\n",
        "        y.append(target)\n",
        "\n",
        "    return torch.tensor(np.array(X)), torch.tensor(np.array(y))"
      ]
    },
    {
      "cell_type": "code",
      "execution_count": 18,
      "id": "1c21cfd8",
      "metadata": {
        "colab": {
          "base_uri": "https://localhost:8080/"
        },
        "id": "1c21cfd8",
        "outputId": "39ba620b-dd12-4a2f-f0f2-a96369ac4266"
      },
      "outputs": [
        {
          "output_type": "stream",
          "name": "stdout",
          "text": [
            "torch.Size([28012, 20, 6]) torch.Size([28012, 20, 6])\n",
            "torch.Size([6988, 20, 6]) torch.Size([6988, 20, 6])\n"
          ]
        }
      ],
      "source": [
        "lookback = 20\n",
        "X_train, y_train = create_dataset(train_df, lookback=lookback)\n",
        "X_val, y_val = create_dataset(val_df, lookback=lookback)\n",
        "print(X_train.shape, y_train.shape)\n",
        "print(X_val.shape, y_val.shape)"
      ]
    },
    {
      "cell_type": "code",
      "execution_count": 19,
      "id": "01224bf6",
      "metadata": {
        "id": "01224bf6"
      },
      "outputs": [],
      "source": [
        "class BtcDataset(Dataset):\n",
        "\n",
        "    def __init__(self, X, y):\n",
        "        self.X = X\n",
        "        self.y = y\n",
        "        self.length = X.shape[0]\n",
        "\n",
        "    def __getitem__(self, idx):\n",
        "        X = self.X[idx]\n",
        "        Y = self.y[idx]\n",
        "        return X, Y\n",
        "\n",
        "    def __len__(self):\n",
        "        return self.length"
      ]
    },
    {
      "cell_type": "code",
      "execution_count": 20,
      "id": "469cb85c",
      "metadata": {
        "id": "469cb85c"
      },
      "outputs": [],
      "source": [
        "train_dataset = BtcDataset(X_train, y_train)\n",
        "val_dataset = BtcDataset(X_val, y_val)\n",
        "\n",
        "train_dataloader = DataLoader(train_dataset, shuffle=True, batch_size=32)\n",
        "val_dataloader = DataLoader(val_dataset, shuffle=True, batch_size=32)"
      ]
    },
    {
      "cell_type": "code",
      "execution_count": 21,
      "id": "e203978d",
      "metadata": {
        "colab": {
          "base_uri": "https://localhost:8080/"
        },
        "id": "e203978d",
        "outputId": "89d6502b-8254-44dc-c81e-030cc0117a6a"
      },
      "outputs": [
        {
          "output_type": "execute_result",
          "data": {
            "text/plain": [
              "(torch.Size([32, 20, 6]), torch.Size([32, 20, 6]))"
            ]
          },
          "metadata": {},
          "execution_count": 21
        }
      ],
      "source": [
        "X, y = next(iter(train_dataloader))\n",
        "\n",
        "X.shape, y.shape"
      ]
    },
    {
      "cell_type": "markdown",
      "id": "889afc21",
      "metadata": {
        "id": "889afc21"
      },
      "source": [
        "## Model construction"
      ]
    },
    {
      "cell_type": "code",
      "execution_count": 22,
      "id": "b62bbfe4",
      "metadata": {
        "id": "b62bbfe4"
      },
      "outputs": [],
      "source": [
        "import torch\n",
        "import torch.nn as nn"
      ]
    },
    {
      "cell_type": "code",
      "execution_count": 23,
      "id": "e6e56907",
      "metadata": {
        "id": "e6e56907"
      },
      "outputs": [],
      "source": [
        "class BtcNet(nn.Module):\n",
        "\n",
        "    def __init__(self, hidden_size=100):\n",
        "        super().__init__()\n",
        "\n",
        "        self.hidden_size = hidden_size\n",
        "\n",
        "        self.rnn = nn.LSTM(input_size=6, hidden_size=hidden_size, batch_first=True)\n",
        "\n",
        "        self.linear = nn.Sequential(\n",
        "            nn.Linear(in_features=hidden_size, out_features=hidden_size // 2),\n",
        "            nn.ReLU(),\n",
        "            nn.Linear(in_features=hidden_size // 2, out_features=6),\n",
        "        )\n",
        "\n",
        "    def forward(self, x, hidden=None):\n",
        "        # x: [BATCH_SIZE x CANDLES_COUNT x 6]\n",
        "\n",
        "        out, _ = self.rnn(x, hidden)\n",
        "        # out: torch.Size([BATCH_SIZE, CANDLES_COUNT, 100])\n",
        "\n",
        "        out = self.linear(out)\n",
        "        # out: torch.Size([BATCH_SIZE, CANDLES_COUNT, 6])\n",
        "\n",
        "        return out"
      ]
    },
    {
      "cell_type": "markdown",
      "id": "364187ed",
      "metadata": {
        "id": "364187ed"
      },
      "source": [
        "## Training"
      ]
    },
    {
      "cell_type": "code",
      "execution_count": 24,
      "id": "fb1052ac",
      "metadata": {
        "colab": {
          "base_uri": "https://localhost:8080/"
        },
        "id": "fb1052ac",
        "outputId": "b88c332c-94ce-4eca-fd20-c39181b65c2f"
      },
      "outputs": [
        {
          "output_type": "execute_result",
          "data": {
            "text/plain": [
              "device(type='cpu')"
            ]
          },
          "metadata": {},
          "execution_count": 24
        }
      ],
      "source": [
        "device = torch.device('cuda' if torch.cuda.is_available() else 'cpu')\n",
        "device"
      ]
    },
    {
      "cell_type": "code",
      "source": [
        "mu, std = scaler.mean_, scaler.var_\n",
        "\n",
        "\n",
        "def scale(batch, mu=mu, std=std):\n",
        "    batch = (batch - mu) / std\n",
        "    return batch.float()\n",
        "\n",
        "\n",
        "mu, std"
      ],
      "metadata": {
        "id": "ocuHL6_s8UEF",
        "colab": {
          "base_uri": "https://localhost:8080/"
        },
        "outputId": "32b9141b-c498-4095-bfbb-bbf1506cbada"
      },
      "id": "ocuHL6_s8UEF",
      "execution_count": 25,
      "outputs": [
        {
          "output_type": "execute_result",
          "data": {
            "text/plain": [
              "(array([2.51558479e+04, 2.51561827e+04, 2.51873644e+04, 2.51231384e+04,\n",
              "        4.81441936e+01, 1.18469958e+06]),\n",
              " array([1.98812066e+07, 1.98785646e+07, 1.99311663e+07, 1.98238614e+07,\n",
              "        4.73339826e+03, 3.00013048e+12]))"
            ]
          },
          "metadata": {},
          "execution_count": 25
        }
      ]
    },
    {
      "cell_type": "code",
      "execution_count": 26,
      "id": "e87f8d9a",
      "metadata": {
        "id": "e87f8d9a"
      },
      "outputs": [],
      "source": [
        "from IPython.display import clear_output\n",
        "\n",
        "\n",
        "losses = {\n",
        "    'train': [],\n",
        "    'val': []\n",
        "}\n",
        "\n",
        "\n",
        "def train(model, optimizer, criterion, epoches, tr_loader, val_loader):\n",
        "    for epoch in range(epoches):\n",
        "        # training\n",
        "        model.train()\n",
        "        train_loss = 0\n",
        "\n",
        "        for X_batch, Y_batch in tr_loader:\n",
        "            X_batch_cuda = X_batch.to(device)\n",
        "            out = model.forward(X_batch_cuda)\n",
        "\n",
        "            optimizer.zero_grad()\n",
        "            loss = criterion(out, Y_batch.to(device))\n",
        "            loss.backward()\n",
        "            optimizer.step()\n",
        "\n",
        "            train_loss += loss.item()\n",
        "\n",
        "        train_loss /= len(tr_loader)\n",
        "        losses['train'].append(train_loss**0.5)\n",
        "\n",
        "        # validation\n",
        "        model.eval()\n",
        "        val_loss = 0\n",
        "\n",
        "        for X_val, Y_val in val_loader:\n",
        "            X_val = scale(X_val)\n",
        "            Y_val = scale(Y_val)\n",
        "\n",
        "            X_val_cuda = X_val.to(device)\n",
        "\n",
        "            with torch.no_grad():\n",
        "                out = model.forward(X_val_cuda)\n",
        "\n",
        "            loss = criterion(out, Y_val.to(device))\n",
        "\n",
        "            val_loss += loss.item()\n",
        "\n",
        "        val_loss /= len(val_loader)\n",
        "        losses['val'].append(val_loss**0.5)\n",
        "\n",
        "        # show result & visualization\n",
        "        print(f'Epoch: {epoch+1}/{epoches}; Train loss: {train_loss}; Val loss: {val_loss}')"
      ]
    },
    {
      "cell_type": "code",
      "execution_count": 29,
      "id": "62c5a856",
      "metadata": {
        "id": "62c5a856"
      },
      "outputs": [],
      "source": [
        "model = BtcNet().to(device)\n",
        "\n",
        "epoches = 10\n",
        "optimizer = torch.optim.Adam(model.parameters(), lr=1e-4)\n",
        "criterion = nn.MSELoss()"
      ]
    },
    {
      "cell_type": "code",
      "execution_count": 30,
      "id": "d26047ae",
      "metadata": {
        "colab": {
          "base_uri": "https://localhost:8080/"
        },
        "id": "d26047ae",
        "outputId": "8180f136-b4ec-42f0-f47f-f2b9bcc8b1b3"
      },
      "outputs": [
        {
          "output_type": "stream",
          "name": "stdout",
          "text": [
            "Epoch: 1/10; Train loss: 0.39141227879888935; Val loss: 0.002083576215243979\n",
            "Epoch: 2/10; Train loss: 0.21182400792769102; Val loss: 0.0022213405166161522\n",
            "Epoch: 3/10; Train loss: 0.20195935871111884; Val loss: 0.0031256851608350397\n",
            "Epoch: 4/10; Train loss: 0.19768358637327882; Val loss: 0.002921666218537718\n",
            "Epoch: 5/10; Train loss: 0.1943976220815149; Val loss: 0.0051749337732485716\n",
            "Epoch: 6/10; Train loss: 0.19215018674305992; Val loss: 0.0076417623717150735\n",
            "Epoch: 7/10; Train loss: 0.19039887471388192; Val loss: 0.009283033361207676\n",
            "Epoch: 8/10; Train loss: 0.18911738345850276; Val loss: 0.0077044803300472696\n",
            "Epoch: 9/10; Train loss: 0.1880664400007899; Val loss: 0.009199066950884311\n",
            "Epoch: 10/10; Train loss: 0.18705272549958943; Val loss: 0.010814132015794923\n"
          ]
        }
      ],
      "source": [
        "train(model, optimizer, criterion, epoches, train_dataloader, val_dataloader)"
      ]
    },
    {
      "cell_type": "code",
      "source": [
        "# visualization\n",
        "\n",
        "skip_losses = 3\n",
        "plt.plot(losses['train'][skip_losses:], label='train')\n",
        "plt.plot(losses['val'][skip_losses:], label='val')\n",
        "plt.legend()"
      ],
      "metadata": {
        "colab": {
          "base_uri": "https://localhost:8080/",
          "height": 347
        },
        "id": "B2EfvdVZ9RP7",
        "outputId": "7f302f49-4b39-4af3-f466-bde57021c2d9"
      },
      "id": "B2EfvdVZ9RP7",
      "execution_count": 31,
      "outputs": [
        {
          "output_type": "execute_result",
          "data": {
            "text/plain": [
              "<matplotlib.legend.Legend at 0x7a0ad6afaf50>"
            ]
          },
          "metadata": {},
          "execution_count": 31
        },
        {
          "output_type": "display_data",
          "data": {
            "text/plain": [
              "<Figure size 2000x500 with 1 Axes>"
            ],
            "image/png": "[encoded data removed]"
          },
          "metadata": {}
        }
      ]
    },
    {
      "cell_type": "markdown",
      "source": [
        "## Testing"
      ],
      "metadata": {
        "id": "LGNu8ZYZaxy1"
      },
      "id": "LGNu8ZYZaxy1"
    },
    {
      "cell_type": "code",
      "execution_count": 42,
      "id": "16bd6135",
      "metadata": {
        "id": "16bd6135",
        "colab": {
          "base_uri": "https://localhost:8080/",
          "height": 342
        },
        "outputId": "4dc4d38d-c224-4c52-c9bc-7ff8254ce561"
      },
      "outputs": [
        {
          "output_type": "display_data",
          "data": {
            "text/plain": [
              "<Figure size 2000x500 with 1 Axes>"
            ],
            "image/png": "[encoded data removed]"
          },
          "metadata": {}
        }
      ],
      "source": [
        "start_idx, count = 135, 40\n",
        "full_x = val_df[start_idx:start_idx+count]\n",
        "\n",
        "candles_plot(full_x)"
      ]
    },
    {
      "cell_type": "code",
      "execution_count": 43,
      "id": "163e7f90",
      "metadata": {
        "id": "163e7f90"
      },
      "outputs": [],
      "source": [
        "def predict(x, count=4, receptive_field=20):\n",
        "    model.eval()\n",
        "\n",
        "    with torch.no_grad():\n",
        "        x = torch.tensor(x).to(device)\n",
        "\n",
        "        for i in range(count):\n",
        "            candles = model(x[:, -receptive_field:])\n",
        "            last_candle = candles[-1, :].unsqueeze(0)\n",
        "            x = torch.cat((x, last_candle), dim=0)\n",
        "\n",
        "    return x.cpu().detach().numpy()"
      ]
    },
    {
      "cell_type": "code",
      "source": [
        "x = full_x[:count-4].values.astype(np.float32)\n",
        "x = scaler.transform(x)\n",
        "\n",
        "candles = predict(x)\n",
        "candles = scaler.inverse_transform(candles)\n",
        "\n",
        "candles_pd = pd.DataFrame(candles, columns=cols)\n",
        "candles_plot(candles_pd)"
      ],
      "metadata": {
        "colab": {
          "base_uri": "https://localhost:8080/",
          "height": 397
        },
        "id": "B-VXd0IEGVcu",
        "outputId": "1aabac1c-f8ad-4517-ce2a-41bc502730c7"
      },
      "id": "B-VXd0IEGVcu",
      "execution_count": 44,
      "outputs": [
        {
          "output_type": "stream",
          "name": "stderr",
          "text": [
            "/usr/local/lib/python3.10/dist-packages/sklearn/base.py:439: UserWarning: X does not have valid feature names, but StandardScaler was fitted with feature names\n",
            "  warnings.warn(\n"
          ]
        },
        {
          "output_type": "display_data",
          "data": {
            "text/plain": [
              "<Figure size 2000x500 with 1 Axes>"
            ],
            "image/png": "[encoded data removed]"
          },
          "metadata": {}
        }
      ]
    },
    {
      "cell_type": "markdown",
      "source": [
        "## Saving weights"
      ],
      "metadata": {
        "id": "F-9rJXLmGrsY"
      },
      "id": "F-9rJXLmGrsY"
    },
    {
      "cell_type": "code",
      "source": [
        "PATH = '/content/drive/MyDrive/BTC_RNN_weights.saved'\n",
        "\n",
        "torch.save(model.state_dict(), PATH)"
      ],
      "metadata": {
        "id": "-LjNpsF3s9Q0"
      },
      "id": "-LjNpsF3s9Q0",
      "execution_count": 45,
      "outputs": []
    },
    {
      "cell_type": "code",
      "source": [],
      "metadata": {
        "id": "5bgvL3AxtRjr"
      },
      "id": "5bgvL3AxtRjr",
      "execution_count": null,
      "outputs": []
    }
  ],
  "metadata": {
    "kernelspec": {
      "display_name": "Python 3",
      "name": "python3"
    },
    "language_info": {
      "codemirror_mode": {
        "name": "ipython",
        "version": 3
      },
      "file_extension": ".py",
      "mimetype": "text/x-python",
      "name": "python",
      "nbconvert_exporter": "python",
      "pygments_lexer": "ipython3",
      "version": "3.9.13"
    },
    "colab": {
      "provenance": []
    }
  },
  "nbformat": 4,
  "nbformat_minor": 5
}